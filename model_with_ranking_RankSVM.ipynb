{
 "cells": [
  {
   "cell_type": "code",
   "execution_count": 1,
   "metadata": {},
   "outputs": [],
   "source": [
    "import numpy as np\n",
    "import pandas as pd\n",
    "import time\n",
    "from sklearn.model_selection import GridSearchCV\n",
    "from utils import custom_ap_scorer, sklearn_custom_ap_scorer, sem_abrv_to_full"
   ]
  },
  {
   "cell_type": "code",
   "execution_count": 2,
   "metadata": {},
   "outputs": [],
   "source": [
    "train_df = pd.read_csv(\"train_df.csv\", index_col=0)\n",
    "feature_names = train_df.columns.tolist()\n",
    "feature_names.remove('label')\n",
    "feature_names.remove('target')\n",
    "X = train_df[feature_names].values\n",
    "Y = train_df[\"target\"].values"
   ]
  },
  {
   "cell_type": "code",
   "execution_count": 3,
   "metadata": {},
   "outputs": [],
   "source": [
    "test_df = pd.read_csv(\"test_df.csv\", index_col=0)\n",
    "feature_names = test_df.columns.tolist()\n",
    "feature_names.remove('label')\n",
    "feature_names.remove('target')\n",
    "X_test = test_df[feature_names].values\n",
    "Y_test = test_df[\"target\"].values"
   ]
  },
  {
   "cell_type": "code",
   "execution_count": 4,
   "metadata": {},
   "outputs": [
    {
     "name": "stdout",
     "output_type": "stream",
     "text": [
      "GridSearch took 180.5 seconds\n",
      "Best parameters={'C': 0.01, 'random_state': 2020}\n",
      "Best score=0.7497129320198198\n",
      "Average Precission: 0.9367922008917762\n"
     ]
    }
   ],
   "source": [
    "from machine_learning.svm.python.ranksvm import RankSVM\n",
    "C = np.logspace(-2, 2, 5)\n",
    "\n",
    "hyperparameters = dict(C=C, random_state=[2020])\n",
    "\n",
    "grid_search = GridSearchCV(RankSVM(), hyperparameters, cv=10, verbose=0, scoring=sklearn_custom_ap_scorer)\n",
    "start_time = time.time()\n",
    "grid_search.fit(X, Y)\n",
    "print(\"GridSearch took {:.1f} seconds\".format(time.time() - start_time))\n",
    "print(\"Best parameters={}\".format(grid_search.best_params_))\n",
    "print(\"Best score={}\".format(grid_search.best_score_))\n",
    "\n",
    "rank_svm = RankSVM(**grid_search.best_params_)\n",
    "rank_svm.fit(X, Y)\n",
    "Y_rank_svm_predict = rank_svm.predict(X_test)\n",
    "\n",
    "print(\"Average Precission: {}\".format(custom_ap_scorer(Y_test, Y_rank_svm_predict)))"
   ]
  },
  {
   "cell_type": "code",
   "execution_count": 5,
   "metadata": {},
   "outputs": [
    {
     "data": {
      "text/plain": [
       "['rankSVMcoefs.joblib']"
      ]
     },
     "execution_count": 5,
     "metadata": {},
     "output_type": "execute_result"
    }
   ],
   "source": [
    "import joblib\n",
    "\n",
    "joblib.dump(rank_svm.coefs, \"rankSVMcoefs.joblib\")"
   ]
  },
  {
   "cell_type": "markdown",
   "metadata": {},
   "source": [
    "## Error Analysis"
   ]
  },
  {
   "cell_type": "code",
   "execution_count": 6,
   "metadata": {},
   "outputs": [],
   "source": [
    "unabrv_feature_name = [feature_name if feature_name not in sem_abrv_to_full else sem_abrv_to_full[feature_name] for feature_name in feature_names]"
   ]
  },
  {
   "cell_type": "code",
   "execution_count": 7,
   "metadata": {},
   "outputs": [
    {
     "name": "stdout",
     "output_type": "stream",
     "text": [
      "Feature Name                             | Model Coef\n",
      "-----------------------------------------------------\n",
      "pagerank                                 | -6.29218\n",
      "Geographic Area                          | -2.02716\n",
      "Social Behavior                          | -1.91714\n",
      "Occupational Activity                    | -1.85450\n",
      "Classification                           | -1.84430\n",
      "Professional or Occupational Group       | -1.82979\n",
      "Entity                                   | -1.75779\n",
      "Individual Behavior                      | -1.62251\n",
      "Health Care Related Organization         | -1.53097\n",
      "Organic Chemical                         | +1.40605\n",
      "Idea or Concept                          | -1.24485\n",
      "Neoplastic Process                       | +1.24367\n",
      "Nucleic Acid, Nucleoside, or Nucleotide  | +1.20065\n",
      "Organism Function                        | +1.10716\n",
      "Genetic Function                         | +1.08829\n",
      "Cell Function                            | +1.04292\n",
      "Mammal                                   | +1.02580\n",
      "Indicator, Reagent, or Diagnostic Aid    | +1.02043\n",
      "Cell Component                           | +1.01048\n",
      "Quantitative Concept                     | -0.97965\n",
      "Molecular Biology Research Technique     | +0.95765\n",
      "Tissue                                   | +0.95673\n",
      "Cell or Molecular Dysfunction            | +0.94802\n",
      "Activity                                 | -0.89749\n",
      "Amino Acid, Peptide, or Protein          | +0.87324\n",
      "Immunologic Factor                       | +0.87031\n",
      "Mental or Behavioral Dysfunction         | +0.85452\n",
      "Occupation or Discipline                 | -0.81139\n",
      "Qualitative Concept                      | -0.80995\n",
      "Element, Ion, or Isotope                 | +0.79632\n",
      "Molecular Function                       | +0.79376\n",
      "Manufactured Object                      | -0.79080\n",
      "Organization                             | -0.77123\n",
      "Body System                              | +0.76067\n",
      "Temporal Concept                         | -0.71817\n",
      "Phenomenon or Process                    | -0.71259\n",
      "Animal                                   | -0.68060\n",
      "Intellectual Product                     | -0.65804\n",
      "Spatial Concept                          | -0.61017\n",
      "Substance                                | -0.58216\n",
      "Research Activity                        | -0.56969\n",
      "Finding                                  | -0.56858\n",
      "node2vec12                               | -0.53282\n",
      "Body Part, Organ, or Organ Component     | +0.44121\n",
      "Population Group                         | -0.43952\n",
      "Pharmacologic Substance                  | -0.43427\n",
      "Functional Concept                       | -0.42885\n",
      "Gene or Genome                           | +0.37988\n",
      "node2vec23                               | +0.33705\n",
      "node2vec3                                | +0.31025\n",
      "Conceptual Entity                        | -0.30456\n",
      "node2vec8                                | -0.25776\n",
      "Mental Process                           | -0.25664\n",
      "node2vec15                               | -0.23057\n",
      "Health Care Activity                     | -0.22627\n",
      "Pathologic Function                      | +0.19546\n",
      "node2vec26                               | +0.18167\n",
      "node2vec6                                | +0.17508\n",
      "node2vec17                               | +0.16647\n",
      "node2vec11                               | +0.15513\n",
      "node2vec10                               | -0.15469\n",
      "node2vec1                                | -0.13550\n",
      "node2vec13                               | -0.12712\n",
      "node2vec2                                | +0.12187\n",
      "node2vec25                               | +0.11910\n",
      "Diagnostic Procedure                     | +0.11406\n",
      "Disease or Syndrome                      | +0.10176\n",
      "node2vec24                               | +0.09967\n",
      "Therapeutic or Preventive Procedure      | +0.09928\n",
      "node2vec4                                | +0.09728\n",
      "node2vec19                               | -0.09619\n",
      "node2vec31                               | -0.08934\n",
      "node2vec16                               | +0.08148\n",
      "node2vec30                               | +0.07922\n",
      "node2vec14                               | -0.07888\n",
      "node2vec18                               | -0.06769\n",
      "Cell                                     | +0.06453\n",
      "node2vec29                               | +0.05815\n",
      "node2vec9                                | +0.04617\n",
      "node2vec22                               | +0.04563\n",
      "node2vec27                               | -0.04369\n",
      "node2vec32                               | -0.03658\n",
      "Laboratory Procedure                     | +0.03070\n",
      "node2vec21                               | -0.02748\n",
      "node2vec28                               | -0.02267\n",
      "node2vec5                                | +0.01880\n",
      "node2vec7                                | -0.00882\n",
      "node2vec20                               | +0.00000\n"
     ]
    }
   ],
   "source": [
    "features_coef = list(zip(unabrv_feature_name, rank_svm.coefs.tolist()))\n",
    "features_coef.sort(key=lambda x: abs(x[1]), reverse=True)\n",
    "header = \"{feature:40} | {coef:10}\".format(feature=\"Feature Name\", coef=\"Model Coef\")\n",
    "print(header)\n",
    "print(\"-\" * len(header))\n",
    "for feature_name, coef in features_coef:\n",
    "    print(\"{feature:40} | {coef:+2.5f}\".format(feature=feature_name, coef=coef))"
   ]
  },
  {
   "cell_type": "code",
   "execution_count": 29,
   "metadata": {},
   "outputs": [],
   "source": [
    "def print_label_counts_per_sem_type(data, sem_type):\n",
    "    print(\"Semantic Type: {}\".format(sem_abrv_to_full[sem_type]))\n",
    "    filtered = data[data[sem_type] == 1]\n",
    "    unique_values, occur_count = np.unique(filtered[\"target\"], return_counts=True)\n",
    "    line_template = \"{label:5} | {count:5}\"\n",
    "    print(line_template.format(label=\"label\", count=\"count\"))\n",
    "    print(\"-\"*13)\n",
    "    for value, count in zip(unique_values, occur_count):\n",
    "        print(line_template.format(label=value, count=count))\n",
    "    print()"
   ]
  },
  {
   "cell_type": "code",
   "execution_count": 30,
   "metadata": {},
   "outputs": [
    {
     "name": "stdout",
     "output_type": "stream",
     "text": [
      "Semantic Type: Cell or Molecular Dysfunction\n",
      "label | count\n",
      "-------------\n",
      "    1 |     6\n",
      "\n",
      "Semantic Type: Tissue\n",
      "label | count\n",
      "-------------\n",
      "    1 |     6\n",
      "\n",
      "Semantic Type: Mental or Behavioral Dysfunction\n",
      "label | count\n",
      "-------------\n",
      "    1 |     6\n",
      "\n",
      "Semantic Type: Finding\n",
      "label | count\n",
      "-------------\n",
      "    0 |    20\n",
      "    1 |    16\n",
      "\n"
     ]
    }
   ],
   "source": [
    "print_label_counts_per_sem_type(train_df, \"comd\")\n",
    "print_label_counts_per_sem_type(train_df, \"tisu\")\n",
    "print_label_counts_per_sem_type(train_df, \"mobd\")\n",
    "print_label_counts_per_sem_type(train_df, \"fndg\")"
   ]
  },
  {
   "cell_type": "code",
   "execution_count": 26,
   "metadata": {},
   "outputs": [
    {
     "data": {
      "image/png": "[encoded data removed]",
      "text/plain": [
       "<Figure size 1440x1080 with 1 Axes>"
      ]
     },
     "metadata": {
      "needs_background": "light"
     },
     "output_type": "display_data"
    }
   ],
   "source": [
    "import seaborn as sns\n",
    "import matplotlib.pyplot as plt\n",
    "\n",
    "plt.rcParams.update({'font.size': 16})\n",
    "fig, ax = plt.subplots()\n",
    "fig.set_figheight(15)\n",
    "fig.set_figwidth(20)\n",
    "chart = sns.histplot(train_df, x=\"pagerank\", bins=200, ax=ax)\n",
    "plt.savefig('pagerank_dist.pdf', bbox_inches='tight')\n",
    "plt.show()"
   ]
  },
  {
   "cell_type": "code",
   "execution_count": 31,
   "metadata": {},
   "outputs": [
    {
     "name": "stdout",
     "output_type": "stream",
     "text": [
      "Semantic Type: Disease or Syndrome\n",
      "label | count\n",
      "-------------\n",
      "    0 |     2\n",
      "    1 |    12\n",
      "\n"
     ]
    }
   ],
   "source": [
    "print_label_counts_per_sem_type(train_df, \"dsyn\")"
   ]
  },
  {
   "cell_type": "code",
   "execution_count": 13,
   "metadata": {},
   "outputs": [],
   "source": [
    "rankings = zip(test_df.index.tolist(), Y_rank_svm_predict.tolist())"
   ]
  },
  {
   "cell_type": "code",
   "execution_count": 14,
   "metadata": {},
   "outputs": [],
   "source": [
    "import csv\n",
    "column_names = ['#', 'cui', 'label', 'ranking', 'target'] + unabrv_feature_name\n",
    "\n",
    "cui_to_x_test = {cui: X_test[ii, :].tolist() for ii, cui in enumerate(test_df.index)}\n",
    "\n",
    "with open('final_model_eval.csv', 'w') as csv_file:\n",
    "    writer = csv.writer(csv_file)\n",
    "    writer.writerow(column_names)\n",
    "    writer.writerow(['', '', 'Model Coeficients', '', ''] + rank_svm.coefs.tolist())\n",
    "    for ii, (cui, ranking) in enumerate(sorted(rankings, key=lambda x: x[1], reverse=True), start=1):\n",
    "        true_label = \"keep\" if test_df['target'][cui] == 1 else \"discard\"\n",
    "        writer.writerow([ii, cui, test_df['label'][cui], ranking, true_label] + cui_to_x_test[cui])\n",
    "    "
   ]
  },
  {
   "cell_type": "code",
   "execution_count": null,
   "metadata": {},
   "outputs": [],
   "source": []
  }
 ],
 "metadata": {
  "kernelspec": {
   "display_name": "Python 3",
   "language": "python",
   "name": "python3"
  },
  "language_info": {
   "codemirror_mode": {
    "name": "ipython",
    "version": 3
   },
   "file_extension": ".py",
   "mimetype": "text/x-python",
   "name": "python",
   "nbconvert_exporter": "python",
   "pygments_lexer": "ipython3",
   "version": "3.8.5"
  }
 },
 "nbformat": 4,
 "nbformat_minor": 4
}
