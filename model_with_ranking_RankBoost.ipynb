{
 "cells": [
  {
   "cell_type": "code",
   "execution_count": 1,
   "metadata": {},
   "outputs": [],
   "source": [
    "import numpy as np\n",
    "import pandas as pd\n",
    "import time\n",
    "from sklearn.model_selection import GridSearchCV\n",
    "from utils import custom_ap_scorer, sklearn_custom_ap_scorer"
   ]
  },
  {
   "cell_type": "code",
   "execution_count": 2,
   "metadata": {},
   "outputs": [],
   "source": [
    "train_df = pd.read_csv(\"train_df.csv\", index_col=0)\n",
    "feature_names = train_df.columns.tolist()\n",
    "feature_names.remove('label')\n",
    "feature_names.remove('target')\n",
    "X = train_df[feature_names].values\n",
    "Y = train_df[\"target\"].values"
   ]
  },
  {
   "cell_type": "code",
   "execution_count": 3,
   "metadata": {},
   "outputs": [],
   "source": [
    "test_df = pd.read_csv(\"test_df.csv\", index_col=0)\n",
    "feature_names = test_df.columns.tolist()\n",
    "feature_names.remove('label')\n",
    "feature_names.remove('target')\n",
    "X_test = test_df[feature_names].values\n",
    "Y_test = test_df[\"target\"].values"
   ]
  },
  {
   "cell_type": "code",
   "execution_count": 4,
   "metadata": {},
   "outputs": [
    {
     "name": "stdout",
     "output_type": "stream",
     "text": [
      "GridSearch took 2362.9 seconds\n",
      "Best parameters={'T': 50}\n",
      "Best score=0.727333559883099\n",
      "Average Precission: 0.8210955927300881\n"
     ]
    }
   ],
   "source": [
    "import warnings\n",
    "warnings.filterwarnings('ignore')\n",
    "from machine_learning.ensemble.boosting.rankboost import RankBoost\n",
    "\n",
    "T = [32, 50, 64, 128]\n",
    "\n",
    "hyperparameters = dict(T=T)\n",
    "\n",
    "grid_search = GridSearchCV(RankBoost(), hyperparameters, cv=10, verbose=0, scoring=sklearn_custom_ap_scorer)\n",
    "start_time = time.time()\n",
    "grid_search.fit(X, Y)\n",
    "print(\"GridSearch took {:.1f} seconds\".format(time.time() - start_time))\n",
    "print(\"Best parameters={}\".format(grid_search.best_params_))\n",
    "print(\"Best score={}\".format(grid_search.best_score_))\n",
    "\n",
    "rank_boost = RankBoost(**grid_search.best_params_)\n",
    "rank_boost.fit(X, Y)\n",
    "Y_rank_net_predict = rank_boost.predict(X_test)\n",
    "\n",
    "print(\"Average Precission: {}\".format(custom_ap_scorer(Y_test, Y_rank_net_predict)))"
   ]
  }
 ],
 "metadata": {
  "kernelspec": {
   "display_name": "Python 3",
   "language": "python",
   "name": "python3"
  },
  "language_info": {
   "codemirror_mode": {
    "name": "ipython",
    "version": 3
   },
   "file_extension": ".py",
   "mimetype": "text/x-python",
   "name": "python",
   "nbconvert_exporter": "python",
   "pygments_lexer": "ipython3",
   "version": "3.8.5"
  }
 },
 "nbformat": 4,
 "nbformat_minor": 4
}
