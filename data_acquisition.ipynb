{
 "cells": [
  {
   "cell_type": "code",
   "execution_count": 2,
   "metadata": {},
   "outputs": [],
   "source": [
    "import py2neo\n",
    "import json"
   ]
  },
  {
   "cell_type": "code",
   "execution_count": 3,
   "metadata": {},
   "outputs": [],
   "source": [
    "graph = py2neo.Graph(sceme='bolt', host='<neo4jIP>', port=7687, user='<neo4j_user>', password='<neo4j_pass>')\n",
    "\n",
    "query = \"MATCH (n:Entity) RETURN n.id AS identifier, n.label AS label,\"\\\n",
    "\"n.node2vec AS node2vec128, n.node2vec32 AS node2vec32, n.node2vec64 AS node2vec64,  n.sem_types AS sem_types, n.pagerank AS pagerank\"\n",
    "result = graph.run(query)\n",
    "\n",
    "data = {}\n",
    "for record in result:\n",
    "    data[record[\"identifier\"]] = {item: record[item] for item in [\"label\", \"node2vec32\", \"node2vec64\", \"node2vec128\", \"sem_types\", \"pagerank\"]}\n",
    "\n",
    "with open('fulldb-entities.json', 'w') as json_file:\n",
    "    json.dump(data, json_file, sort_keys=True, indent=4)"
   ]
  }
 ],
 "metadata": {
  "kernelspec": {
   "display_name": "Python 3",
   "language": "python",
   "name": "python3"
  },
  "language_info": {
   "codemirror_mode": {
    "name": "ipython",
    "version": 3
   },
   "file_extension": ".py",
   "mimetype": "text/x-python",
   "name": "python",
   "nbconvert_exporter": "python",
   "pygments_lexer": "ipython3",
   "version": "3.8.5"
  }
 },
 "nbformat": 4,
 "nbformat_minor": 4
}
