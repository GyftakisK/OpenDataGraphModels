{
 "cells": [
  {
   "cell_type": "code",
   "execution_count": 1,
   "metadata": {},
   "outputs": [],
   "source": [
    "import matplotlib.pyplot as plt\n",
    "import numpy as np\n",
    "import pandas as pd\n",
    "import pickle\n",
    "import seaborn as sns\n",
    "import time\n",
    "from sklearn.dummy import DummyClassifier\n",
    "from sklearn.ensemble import RandomForestClassifier\n",
    "from sklearn.linear_model import LogisticRegression\n",
    "from sklearn.metrics import confusion_matrix\n",
    "from sklearn.model_selection import GridSearchCV\n",
    "from sklearn.model_selection import cross_validate\n",
    "from sklearn.naive_bayes import GaussianNB\n",
    "from sklearn.neighbors import KNeighborsClassifier\n",
    "from sklearn.preprocessing import MinMaxScaler\n",
    "from sklearn.svm import SVC\n",
    "from sklearn.tree import DecisionTreeClassifier\n",
    "from utils import plot_confusion_matrix, average_precission, custom_ap_scorer, sem_abrv_to_full"
   ]
  },
  {
   "cell_type": "code",
   "execution_count": 2,
   "metadata": {},
   "outputs": [],
   "source": [
    "train_df = pd.read_csv(\"train_df.csv\", index_col=0)\n",
    "feature_names = train_df.columns.tolist()\n",
    "feature_names.remove('label')\n",
    "feature_names.remove('target')\n",
    "X = train_df[feature_names].values\n",
    "Y = train_df[\"target\"].values"
   ]
  },
  {
   "cell_type": "code",
   "execution_count": 3,
   "metadata": {},
   "outputs": [],
   "source": [
    "test_df = pd.read_csv(\"test_df.csv\", index_col=0)\n",
    "feature_names = test_df.columns.tolist()\n",
    "feature_names.remove('label')\n",
    "feature_names.remove('target')\n",
    "X_test = test_df[feature_names].values\n",
    "Y_test = test_df[\"target\"].values"
   ]
  },
  {
   "cell_type": "markdown",
   "metadata": {},
   "source": [
    "## Model Tuning"
   ]
  },
  {
   "cell_type": "code",
   "execution_count": 4,
   "metadata": {},
   "outputs": [
    {
     "name": "stdout",
     "output_type": "stream",
     "text": [
      "GridSearch took 106.5 seconds\n"
     ]
    }
   ],
   "source": [
    "import warnings\n",
    "warnings.filterwarnings('ignore')\n",
    "\n",
    "penalty = ['elasticnet']\n",
    "l1_ratio = np.linspace(0.0, 1.0, 10)\n",
    "C = np.logspace(-3, 3, 20)\n",
    "random_state=[2020]\n",
    "solver=['saga']\n",
    "\n",
    "hyperparameters = dict(C=C, penalty=penalty, l1_ratio=l1_ratio, solver=solver, random_state=random_state)\n",
    "\n",
    "grid_search = GridSearchCV(LogisticRegression(), hyperparameters, cv=10, verbose=0, scoring='f1_micro')\n",
    "start_time = time.time()\n",
    "grid_search.fit(X, Y)\n",
    "print(\"GridSearch took {:.1f} seconds\".format(time.time() - start_time))"
   ]
  },
  {
   "cell_type": "code",
   "execution_count": 5,
   "metadata": {},
   "outputs": [
    {
     "name": "stdout",
     "output_type": "stream",
     "text": [
      "Best parameters={'C': 26.366508987303554, 'l1_ratio': 0.0, 'penalty': 'elasticnet', 'random_state': 2020, 'solver': 'saga'}\n",
      "Best score=0.7042229467473995\n"
     ]
    }
   ],
   "source": [
    "print(\"Best parameters={}\".format(grid_search.best_params_))\n",
    "print(\"Best score={}\".format(grid_search.best_score_))"
   ]
  },
  {
   "cell_type": "markdown",
   "metadata": {},
   "source": [
    "## Final Model"
   ]
  },
  {
   "cell_type": "code",
   "execution_count": 6,
   "metadata": {},
   "outputs": [
    {
     "name": "stdout",
     "output_type": "stream",
     "text": [
      "              precision    recall  f1-score   support\n",
      "\n",
      "           0       0.69      0.43      0.53        21\n",
      "           1       0.86      0.95      0.90        79\n",
      "\n",
      "    accuracy                           0.84       100\n",
      "   macro avg       0.78      0.69      0.72       100\n",
      "weighted avg       0.83      0.84      0.83       100\n",
      "\n"
     ]
    }
   ],
   "source": [
    "final_model = LogisticRegression(**grid_search.best_params_)\n",
    "final_model.fit(X, Y)\n",
    "Y_predict = final_model.predict(X_test)\n",
    "from sklearn.metrics import classification_report\n",
    "print(classification_report(Y_test, Y_predict))"
   ]
  },
  {
   "cell_type": "code",
   "execution_count": 7,
   "metadata": {},
   "outputs": [
    {
     "name": "stdout",
     "output_type": "stream",
     "text": [
      "Confusion matrix, without normalization\n"
     ]
    },
    {
     "data": {
      "text/plain": [
       "<matplotlib.axes._subplots.AxesSubplot at 0x7f5b01aa9160>"
      ]
     },
     "execution_count": 7,
     "metadata": {},
     "output_type": "execute_result"
    },
    {
     "data": {
      "image/png": "[encoded data removed]",
      "text/plain": [
       "<Figure size 432x288 with 2 Axes>"
      ]
     },
     "metadata": {
      "needs_background": "light"
     },
     "output_type": "display_data"
    }
   ],
   "source": [
    "plot_confusion_matrix(Y_test, Y_predict, classes=[0, 1])"
   ]
  },
  {
   "cell_type": "markdown",
   "metadata": {},
   "source": [
    "### Ranking"
   ]
  },
  {
   "cell_type": "code",
   "execution_count": 8,
   "metadata": {},
   "outputs": [
    {
     "name": "stdout",
     "output_type": "stream",
     "text": [
      "Baseline Average Precission: 0.8193172135323005\n"
     ]
    }
   ],
   "source": [
    "from sklearn.utils import shuffle\n",
    "\n",
    "num_of_baseline_shuffles = 5\n",
    "baseline_scores = []\n",
    "for random_state in range(num_of_baseline_shuffles):\n",
    "    temp = shuffle(Y_test, random_state=2020+num_of_baseline_shuffles*random_state)\n",
    "    baseline_scores.append(average_precission(temp, 1))\n",
    "\n",
    "print(\"Baseline Average Precission: {}\".format(np.median(baseline_scores)))"
   ]
  },
  {
   "cell_type": "code",
   "execution_count": 9,
   "metadata": {},
   "outputs": [],
   "source": [
    "Y_predict_prob = final_model.predict_proba(X_test)"
   ]
  },
  {
   "cell_type": "code",
   "execution_count": 10,
   "metadata": {},
   "outputs": [
    {
     "name": "stdout",
     "output_type": "stream",
     "text": [
      "  # |    CUI   | Label                                                        | Ranking | Predict/True\n",
      "--------------------------------------------------------------------------------------------------------------\n",
      "  1 | C0072980 | Sirolimus                                                    | 0.996   |       1/   1\n",
      "  2 | C0949860 | Isoprostanes                                                 | 0.993   |       1/   1\n",
      "  3 | C0007134 | Renal Cell Carcinoma                                         | 0.993   |       1/   1\n",
      "  4 | C0079870 | Mutagenesis, Site-Directed                                   | 0.992   |       1/   1\n",
      "  5 | C0206630 | Endometrial Stromal Sarcoma                                  | 0.992   |       1/   1\n",
      "  6 | C0222660 | Trabecular substance of bone                                 | 0.991   |       1/   1\n",
      "  7 | C0075134 | Specific Substance of Maruyama                               | 0.986   |       1/   1\n",
      "  8 | C1518406 | Non-Homologous DNA End-Joining                               | 0.984   |       1/   1\n",
      "  9 | C0060131 | febrifugine                                                  | 0.984   |       1/   1\n",
      " 10 | C0522095 | Long chain fatty acid                                        | 0.983   |       1/   1\n",
      " 11 | C0596295 | cellular pathology                                           | 0.983   |       1/   0\n",
      " 12 | C2698903 | Protein Jagged-1                                             | 0.983   |       1/   1\n",
      " 13 | C0037533 | Sodium Nitroprusside                                         | 0.980   |       1/   1\n",
      " 14 | C1563721 | Protein Carbonylation                                        | 0.978   |       1/   1\n",
      " 15 | C0206588 | Receptors, Nuclear                                           | 0.978   |       1/   1\n",
      " 16 | C0040300 | Body tissue                                                  | 0.978   |       1/   0\n",
      " 17 | C0333763 | Central cores                                                | 0.976   |       1/   1\n",
      " 18 | C0070876 | phospholamban                                                | 0.976   |       1/   1\n",
      " 19 | C3815527 | Delta-Like Protein 1, human                                  | 0.975   |       1/   1\n",
      " 20 | C0949610 | Mitochondrial Proteins                                       | 0.975   |       1/   1\n",
      " 21 | C0016026 | Fibroblast Growth Factor                                     | 0.975   |       1/   1\n",
      " 22 | C0166417 | PPAR gamma                                                   | 0.973   |       1/   1\n",
      " 23 | C0015533 | Factor XIIIa                                                 | 0.973   |       1/   1\n",
      " 24 | C1837658 | Gross motor development delay                                | 0.970   |       1/   1\n",
      " 25 | C0439857 | Dependence                                                   | 0.970   |       1/   0\n",
      " 26 | C1511376 | C57BL/10Sn Mouse                                             | 0.967   |       1/   1\n",
      " 27 | C0063423 | molecular chaperone GRP78                                    | 0.966   |       1/   1\n",
      " 28 | C1155808 | male meiosis                                                 | 0.966   |       1/   1\n",
      " 29 | C0080059 | Proto-Oncogene Protein pp60 (c-src)                          | 0.965   |       1/   1\n",
      " 30 | C0031727 | Phosphotransferases                                          | 0.964   |       1/   1\n",
      " 31 | C0145947 | Tissue-Inhibitor of Metalloproteinase-1                      | 0.962   |       1/   1\n",
      " 32 | C0010291 | Creatine Kinase, MM Form                                     | 0.961   |       1/   1\n",
      " 33 | C0014180 | Endometrium                                                  | 0.953   |       1/   1\n",
      " 34 | C1305000 | Entire extensor carpi ulnaris                                | 0.952   |       1/   1\n",
      " 35 | C3542397 | Actin, Aortic Smooth Muscle                                  | 0.951   |       1/   1\n",
      " 36 | C1413785 | CTAA1 gene                                                   | 0.951   |       1/   1\n",
      " 37 | C3539760 | MOK wt Allele                                                | 0.949   |       1/   1\n",
      " 38 | C1523874 | laminin binding                                              | 0.944   |       1/   1\n",
      " 39 | C1412113 | SLC33A1 gene                                                 | 0.944   |       1/   1\n",
      " 40 | C0052128 | antithrombin III-protease complex                            | 0.942   |       1/   1\n",
      " 41 | C3811721 | MIR31 wt Allele                                              | 0.938   |       1/   1\n",
      " 42 | C1412056 | AAVS1 gene                                                   | 0.927   |       1/   1\n",
      " 43 | C1418587 | PIP gene                                                     | 0.923   |       1/   1\n",
      " 44 | C0222671 | Metaphysis                                                   | 0.917   |       1/   1\n",
      " 45 | C0027880 | Neuronal Plasticity                                          | 0.909   |       1/   1\n",
      " 46 | C1419790 | S100B gene                                                   | 0.907   |       1/   1\n",
      " 47 | C0225870 | Ventricular septum                                           | 0.907   |       1/   1\n",
      " 48 | C0242358 | Tight Junctions                                              | 0.904   |       1/   1\n",
      " 49 | C3658289 | Human Induced Pluripotent Stem Cells                         | 0.901   |       1/   1\n",
      " 50 | C0007258 | Carnitine                                                    | 0.901   |       1/   1\n",
      " 51 | C0017654 | Glomerular Filtration Rate                                   | 0.898   |       1/   1\n",
      " 52 | C2936329 | Asymptomatic Diseases                                        | 0.892   |       1/   1\n",
      " 53 | C0344106 | Sedation procedure                                           | 0.891   |       1/   1\n",
      " 54 | C1413821 | CTSS gene                                                    | 0.889   |       1/   1\n",
      " 55 | C0042514 | Tachycardia, Ventricular                                     | 0.889   |       1/   1\n",
      " 56 | C0795887 | CHROMOSOME Xp21 DELETION SYNDROME                            | 0.885   |       1/   1\n",
      " 57 | C0225336 | Endothelial Cells                                            | 0.882   |       1/   1\n",
      " 58 | C0025962 | Microcirculation                                             | 0.878   |       1/   1\n",
      " 59 | C0020538 | Hypertensive disease                                         | 0.876   |       1/   1\n",
      " 60 | C1420562 | T gene                                                       | 0.873   |       1/   1\n",
      " 61 | C0006155 | Breathing Exercises                                          | 0.872   |       1/   1\n",
      " 62 | C0494503 | unspecified primary disorder of muscle                       | 0.849   |       1/   1\n",
      " 63 | C0007193 | Cardiomyopathy, Dilated                                      | 0.848   |       1/   1\n",
      " 64 | C3158809 | receptor transactivation                                     | 0.847   |       1/   1\n",
      " 65 | C0239313 | exercise induced                                             | 0.832   |       1/   0\n",
      " 66 | C3827199 | Plasmid Production                                           | 0.831   |       1/   1\n",
      " 67 | C0265388 | Autosomal recessive hereditary disorder                      | 0.821   |       1/   1\n",
      " 68 | C0427978 | Minimum Inhibitory Concentration measurement                 | 0.819   |       1/   1\n",
      " 69 | C1285573 | Genotype determination                                       | 0.807   |       1/   0\n",
      " 70 | C2097230 | cyclic GMP measurement (lab test)                            | 0.794   |       1/   1\n",
      " 71 | C1533591 | Calcification                                                | 0.784   |       1/   1\n",
      " 72 | C0870604 | Female child                                                 | 0.777   |       1/   0\n",
      " 73 | C3178810 | Transcriptome                                                | 0.773   |       1/   0\n",
      " 74 | C0021044 | Immunohistochemistry                                         | 0.767   |       1/   0\n",
      " 75 | C0229664 | peripheral blood                                             | 0.759   |       1/   1\n",
      " 76 | C0007818 | Cerebrovascular Circulation                                  | 0.756   |       1/   1\n",
      " 77 | C0000918 | Accident Prevention                                          | 0.740   |       1/   0\n",
      " 78 | C1510438 | Assay                                                        | 0.737   |       1/   0\n",
      " 79 | C0017673 | Glossectomy                                                  | 0.728   |       1/   1\n",
      " 80 | C1535939 | Pneumocystis jiroveci pneumonia                              | 0.714   |       1/   1\n",
      " 81 | C0085406 | Anisotropy                                                   | 0.701   |       1/   1\n",
      " 82 | C0042216 | Vaccinia virus                                               | 0.658   |       1/   1\n",
      " 83 | C0860359 | Reintubation Procedure                                       | 0.649   |       1/   1\n",
      " 84 | C0038039 | Sports                                                       | 0.592   |       1/   0\n",
      " 85 | C0024967 | Maximal Voluntary Ventilation                                | 0.589   |       1/   1\n",
      " 86 | C3846017 | Life threatening illness                                     | 0.550   |       1/   0\n",
      " 87 | C1335957 | Shortening Fraction                                          | 0.508   |       1/   1\n",
      " 88 | C2599768 | Fractional shortening                                        | 0.443   |       0/   1\n",
      " 89 | C0014406 | Environment                                                  | 0.435   |       0/   0\n",
      " 90 | C3846685 | Ambulance, not otherwise specified                           | 0.422   |       0/   0\n",
      " 91 | C0003070 | Animals, Wild                                                | 0.421   |       0/   0\n",
      " 92 | C0744689 | heart size                                                   | 0.414   |       0/   1\n",
      " 93 | C0231170 | Disability                                                   | 0.394   |       0/   0\n",
      " 94 | C3842582 | 90%                                                          | 0.384   |       0/   0\n",
      " 95 | C3842089 | 2 mm                                                         | 0.338   |       0/   0\n",
      " 96 | C0033687 | Proteinuria                                                  | 0.333   |       0/   1\n",
      " 97 | C0025141 | MEDLINE                                                      | 0.260   |       0/   0\n",
      " 98 | C0011900 | Diagnosis                                                    | 0.254   |       0/   0\n",
      " 99 | C0436343 | Symptom mild                                                 | 0.232   |       0/   1\n",
      "100 | C0439849 | Relationships                                                | 0.115   |       0/   0\n"
     ]
    }
   ],
   "source": [
    "rankings = {}\n",
    "predict = {}\n",
    "test_cuis = test_df.index.tolist()\n",
    "for cui, probs in zip(test_cuis, Y_predict_prob):\n",
    "    rankings[cui] = probs[1]\n",
    "    if probs[1] > probs[0]:\n",
    "        predict[cui] = 1\n",
    "    else:\n",
    "        predict[cui] = 0\n",
    "\n",
    "predict_rank_labels = []\n",
    "cui_order = {}\n",
    "print(f\"  # |    CUI   | {'Label':60} | Ranking | Predict/True\")\n",
    "print(\"-\" * 110)\n",
    "for ii, (cui, ranking) in enumerate(sorted(rankings.items(), key=lambda x: x[1], reverse=True), start=1):\n",
    "    predict_rank_labels.append(test_df['target'][cui])\n",
    "    cui_order[cui] = ii - 1\n",
    "    print(f\"{ii:3} | {cui} | {test_df['label'][cui]:60} | {ranking:.3f}   | {predict[cui]:7}/{test_df['target'][cui]:4}\")"
   ]
  },
  {
   "cell_type": "code",
   "execution_count": 12,
   "metadata": {},
   "outputs": [
    {
     "name": "stdout",
     "output_type": "stream",
     "text": [
      "Average Precission: 0.9243131323965222\n"
     ]
    }
   ],
   "source": [
    "print(\"Average Precission: {}\".format(custom_ap_scorer(Y_test, Y_predict_prob[:,1])))"
   ]
  },
  {
   "cell_type": "code",
   "execution_count": null,
   "metadata": {},
   "outputs": [],
   "source": []
  }
 ],
 "metadata": {
  "kernelspec": {
   "display_name": "Python 3",
   "language": "python",
   "name": "python3"
  },
  "language_info": {
   "codemirror_mode": {
    "name": "ipython",
    "version": 3
   },
   "file_extension": ".py",
   "mimetype": "text/x-python",
   "name": "python",
   "nbconvert_exporter": "python",
   "pygments_lexer": "ipython3",
   "version": "3.8.5"
  }
 },
 "nbformat": 4,
 "nbformat_minor": 4
}
