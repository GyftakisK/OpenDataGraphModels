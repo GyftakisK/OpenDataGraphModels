{
 "cells": [
  {
   "cell_type": "code",
   "execution_count": 1,
   "metadata": {},
   "outputs": [],
   "source": [
    "import csv\n",
    "import json"
   ]
  },
  {
   "cell_type": "code",
   "execution_count": 2,
   "metadata": {},
   "outputs": [],
   "source": [
    "removal_sample = {}\n",
    "with open(\"combined.csv\", 'r',  encoding='utf-8-sig') as f:\n",
    "    reader = csv.DictReader(f, delimiter=';')\n",
    "    for row in reader:\n",
    "        if not row['CUI']:\n",
    "            continue\n",
    "        if row['CUI'] in removal_sample:\n",
    "            removal_sample[row['CUI']].append(row['Remove'])\n",
    "        else:\n",
    "            removal_sample[row['CUI']] = [row['Remove']]"
   ]
  },
  {
   "cell_type": "code",
   "execution_count": 3,
   "metadata": {},
   "outputs": [],
   "source": [
    "final_sample = {key: 1 - int(value[0]) for key, value in removal_sample.items() if len(set(value)) == 1}"
   ]
  },
  {
   "cell_type": "code",
   "execution_count": 4,
   "metadata": {},
   "outputs": [],
   "source": [
    "with open('removal_labels.json', 'w') as json_file:\n",
    "    json.dump(final_sample, json_file, sort_keys=True)"
   ]
  },
  {
   "cell_type": "code",
   "execution_count": 5,
   "metadata": {},
   "outputs": [],
   "source": [
    "test_sample = {}\n",
    "with open(\"test.csv\", 'r',  encoding='utf-8-sig') as f:\n",
    "    reader = csv.DictReader(f, delimiter=';')\n",
    "    for row in reader:\n",
    "        if not row['Identifier']:\n",
    "            continue\n",
    "        test_sample[row['Identifier']] = 1 - int(row['Remove'])"
   ]
  },
  {
   "cell_type": "code",
   "execution_count": 6,
   "metadata": {},
   "outputs": [],
   "source": [
    "with open('test_sample.json', 'w') as json_file:\n",
    "    json.dump(test_sample, json_file, sort_keys=True)"
   ]
  },
  {
   "cell_type": "code",
   "execution_count": null,
   "metadata": {},
   "outputs": [],
   "source": []
  }
 ],
 "metadata": {
  "kernelspec": {
   "display_name": "Python 3",
   "language": "python",
   "name": "python3"
  },
  "language_info": {
   "codemirror_mode": {
    "name": "ipython",
    "version": 3
   },
   "file_extension": ".py",
   "mimetype": "text/x-python",
   "name": "python",
   "nbconvert_exporter": "python",
   "pygments_lexer": "ipython3",
   "version": "3.8.3"
  }
 },
 "nbformat": 4,
 "nbformat_minor": 4
}
