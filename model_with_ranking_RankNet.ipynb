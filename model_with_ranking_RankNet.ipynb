{
 "cells": [
  {
   "cell_type": "code",
   "execution_count": 1,
   "metadata": {},
   "outputs": [],
   "source": [
    "import matplotlib.pyplot as plt\n",
    "import numpy as np\n",
    "import pandas as pd\n",
    "import pickle\n",
    "import seaborn as sns\n",
    "import tensorflow as tf\n",
    "import time\n",
    "from sklearn.model_selection import cross_validate\n",
    "from utils import plot_confusion_matrix, average_precission, custom_ap_scorer, sem_abrv_to_full, sklearn_custom_ap_scorer"
   ]
  },
  {
   "cell_type": "code",
   "execution_count": 2,
   "metadata": {},
   "outputs": [],
   "source": [
    "train_df = pd.read_csv(\"train_df.csv\", index_col=0)\n",
    "feature_names = train_df.columns.tolist()\n",
    "feature_names.remove('label')\n",
    "feature_names.remove('target')\n",
    "X = train_df[feature_names].values\n",
    "Y = train_df[\"target\"].values"
   ]
  },
  {
   "cell_type": "code",
   "execution_count": 3,
   "metadata": {},
   "outputs": [],
   "source": [
    "test_df = pd.read_csv(\"test_df.csv\", index_col=0)\n",
    "feature_names = test_df.columns.tolist()\n",
    "feature_names.remove('label')\n",
    "feature_names.remove('target')\n",
    "X_test = test_df[feature_names].values\n",
    "Y_test = test_df[\"target\"].values"
   ]
  },
  {
   "cell_type": "code",
   "execution_count": 5,
   "metadata": {},
   "outputs": [],
   "source": [
    "# import gc\n",
    "# from machine_learning.neuralnet.python.keras.ranknet import RankNet\n",
    "\n",
    "# results = []\n",
    "# start_time = time.time()\n",
    "# for nhidden in [10, 32, 64, 128]:\n",
    "#     for l2 in [0, 0.01, 0.1, 1]:\n",
    "#         print(f\"Using nhidden={nhidden}, l2={l2}\")\n",
    "#         model = RankNet(nhidden=nhidden, l2=l2)\n",
    "#         cv_results = cross_validate(model, X, Y, cv=5, scoring=sklearn_custom_ap_scorer)\n",
    "#         results.append(((nhidden, l2), cv_results['test_score']))\n",
    "#         del model\n",
    "#         gc.collect()\n",
    "#         print(\"Done\")\n",
    "#     tf.keras.backend.clear_session()\n",
    "        \n",
    "# print(\"GridSearch took {:.1f} seconds\".format(time.time() - start_time))\n",
    "# best_parameters, best_scores = sorted(results, key=lambda x: np.median(x[1]), reverse=True)[0]\n",
    "# print(\"Best parameters={}\".format(best_parameters))\n",
    "# print(\"Best score={}\".format(np.median(best_scores)))"
   ]
  },
  {
   "cell_type": "raw",
   "metadata": {},
   "source": [
    "GridSearch took 4706.8 seconds\n",
    "Best parameters=(64, 0.01)\n",
    "Best score=0.8101525166176132"
   ]
  },
  {
   "cell_type": "code",
   "execution_count": 7,
   "metadata": {},
   "outputs": [
    {
     "name": "stdout",
     "output_type": "stream",
     "text": [
      "Average Precision: 0.9273567824963747\n"
     ]
    }
   ],
   "source": [
    "from machine_learning.neuralnet.python.keras.ranknet import RankNet\n",
    "# rank_net = RankNet(nhidden=best_parameters[0], l2=best_parameters[1])\n",
    "rank_net = RankNet(nhidden=64, l2=0.01)\n",
    "rank_net.fit(X, Y)\n",
    "Y_rank_net_predict = rank_net.predict(X_test)\n",
    "\n",
    "print(\"Average Precision: {}\".format(custom_ap_scorer(Y_test, Y_rank_net_predict)))"
   ]
  },
  {
   "cell_type": "code",
   "execution_count": null,
   "metadata": {},
   "outputs": [],
   "source": []
  }
 ],
 "metadata": {
  "kernelspec": {
   "display_name": "Python 3",
   "language": "python",
   "name": "python3"
  },
  "language_info": {
   "codemirror_mode": {
    "name": "ipython",
    "version": 3
   },
   "file_extension": ".py",
   "mimetype": "text/x-python",
   "name": "python",
   "nbconvert_exporter": "python",
   "pygments_lexer": "ipython3",
   "version": "3.8.5"
  }
 },
 "nbformat": 4,
 "nbformat_minor": 4
}
